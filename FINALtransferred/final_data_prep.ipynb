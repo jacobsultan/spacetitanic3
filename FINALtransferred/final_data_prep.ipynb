{
 "cells": [
  {
   "cell_type": "code",
   "execution_count": 2,
   "metadata": {},
   "outputs": [],
   "source": [
    "import os\n",
    "import pandas as pd\n",
    "from fastbook import *\n",
    "from fastai.tabular.all import *\n",
    "import sklearn\n",
    "\n",
    "import warnings\n",
    "warnings.simplefilter(action='ignore', category=FutureWarning)\n",
    "\n",
    "\n",
    "traindf = pd.read_csv('C:/Users/jsult/Desktop/spacetitanic3/train.csv',low_memory=False)\n",
    "testdf = pd.read_csv('C:/Users/jsult/Desktop/spacetitanic3/test.csv',low_memory= False)\n",
    "traindf['train'] = True\n",
    "testdf['train'] = False\n",
    "togeth = pd.concat([traindf,testdf])\n",
    "\n"
   ]
  },
  {
   "cell_type": "code",
   "execution_count": 3,
   "metadata": {},
   "outputs": [],
   "source": [
    "originalcolumns = list(togeth.columns)\n",
    "originalcolumns.remove('Name')\n",
    "originalcolumns.remove('Transported')\n",
    "originalcolumns.remove('train')\n",
    "originalcolumns.remove('PassengerId')"
   ]
  },
  {
   "cell_type": "code",
   "execution_count": 4,
   "metadata": {},
   "outputs": [
    {
     "data": {
      "text/plain": [
       "HomePlanet      288\n",
       "CryoSleep       310\n",
       "Cabin           299\n",
       "Destination     274\n",
       "Age             270\n",
       "VIP             296\n",
       "RoomService     263\n",
       "FoodCourt       289\n",
       "ShoppingMall    306\n",
       "Spa             284\n",
       "VRDeck          268\n",
       "dtype: int64"
      ]
     },
     "execution_count": 4,
     "metadata": {},
     "output_type": "execute_result"
    }
   ],
   "source": [
    "togeth[originalcolumns].isna().sum()"
   ]
  },
  {
   "cell_type": "code",
   "execution_count": 5,
   "metadata": {},
   "outputs": [
    {
     "data": {
      "text/plain": [
       "3147"
      ]
     },
     "execution_count": 5,
     "metadata": {},
     "output_type": "execute_result"
    }
   ],
   "source": [
    "togeth[originalcolumns].isna().sum().sum()"
   ]
  },
  {
   "cell_type": "markdown",
   "metadata": {},
   "source": [
    "## Imputes before splits"
   ]
  },
  {
   "cell_type": "markdown",
   "metadata": {},
   "source": [
    "Impute cabin"
   ]
  },
  {
   "cell_type": "code",
   "execution_count": 34,
   "metadata": {},
   "outputs": [],
   "source": [
    "with open('C:/Users/jsult/Desktop/spacetitanic3/FINALtransferred/idtocabin.pkl', 'rb') as fp:\n",
    "    idtocabin = pickle.load(fp)\n",
    "\n",
    "def cabinimpute(df):\n",
    "    for i,row in df.iterrows():\n",
    "        if pd.isna(row.Cabin):\n",
    "            if row.PassengerId in idtocabin:\n",
    "                df.at[i,'Cabin'] = idtocabin[row.PassengerId]\n",
    "    return df\n",
    "\n"
   ]
  },
  {
   "cell_type": "code",
   "execution_count": 35,
   "metadata": {},
   "outputs": [],
   "source": [
    "togeth = cabinimpute(togeth)"
   ]
  },
  {
   "cell_type": "code",
   "execution_count": 36,
   "metadata": {},
   "outputs": [
    {
     "data": {
      "text/plain": [
       "1661"
      ]
     },
     "execution_count": 36,
     "metadata": {},
     "output_type": "execute_result"
    }
   ],
   "source": [
    "togeth[originalcolumns].isna().sum().sum()"
   ]
  },
  {
   "cell_type": "markdown",
   "metadata": {},
   "source": [
    "Impute spending\n"
   ]
  },
  {
   "cell_type": "code",
   "execution_count": 37,
   "metadata": {},
   "outputs": [],
   "source": [
    "cryodict = {'RoomService':0,'FoodCourt' : 0, 'ShoppingMall' : 0, 'Spa' : 0, 'VRDeck' : 0}\n",
    "spending = ['RoomService','FoodCourt','ShoppingMall','Spa', 'VRDeck']\n",
    "\n",
    "def fillspending0(df):\n",
    "    df.loc[df.CryoSleep == True, list(cryodict.keys())] = df.loc[df.CryoSleep == True, list(cryodict.keys())].fillna(value=cryodict)\n",
    "    return df\n",
    "\n",
    "def spending_under_13(df):\n",
    "    df.loc[df.Age < 13, spending] = df.loc[df.Age < 13, spending].fillna(0)\n",
    "    return df\n",
    "def spending_impute(df):\n",
    "    df = fillspending0(df)\n",
    "    df = spending_under_13(df)\n",
    "    return df\n"
   ]
  },
  {
   "cell_type": "code",
   "execution_count": 38,
   "metadata": {},
   "outputs": [],
   "source": [
    "togeth = spending_impute(togeth)"
   ]
  },
  {
   "cell_type": "code",
   "execution_count": 39,
   "metadata": {},
   "outputs": [
    {
     "data": {
      "text/plain": [
       "1661"
      ]
     },
     "execution_count": 39,
     "metadata": {},
     "output_type": "execute_result"
    }
   ],
   "source": [
    "togeth[originalcolumns].isna().sum().sum()"
   ]
  },
  {
   "cell_type": "markdown",
   "metadata": {},
   "source": [
    "Impute CryoSleep"
   ]
  },
  {
   "cell_type": "code",
   "execution_count": 40,
   "metadata": {},
   "outputs": [],
   "source": [
    "def not_cryosleep_if_spending(df):\n",
    "    for index, row in df[df['CryoSleep'].isna()].iterrows():\n",
    "        if (row[spending] > 0).any():\n",
    "            df.at[index, 'CryoSleep'] = False\n",
    "    return df\n"
   ]
  },
  {
   "cell_type": "code",
   "execution_count": 41,
   "metadata": {},
   "outputs": [],
   "source": [
    "togeth = not_cryosleep_if_spending(togeth)"
   ]
  },
  {
   "cell_type": "code",
   "execution_count": 42,
   "metadata": {},
   "outputs": [
    {
     "data": {
      "text/plain": [
       "1661"
      ]
     },
     "execution_count": 42,
     "metadata": {},
     "output_type": "execute_result"
    }
   ],
   "source": [
    "togeth[originalcolumns].isna().sum().sum()"
   ]
  },
  {
   "cell_type": "markdown",
   "metadata": {},
   "source": [
    "Impute VIP"
   ]
  },
  {
   "cell_type": "code",
   "execution_count": 43,
   "metadata": {},
   "outputs": [],
   "source": [
    "def not_vip_earth(df):\n",
    "    df.loc[df.HomePlanet == 'Earth','VIP'] = df.loc[df.HomePlanet == 'Earth','VIP'].fillna(False)\n",
    "    return df\n",
    "\n",
    "def not_vip_underage(df):\n",
    "    df.loc[df.Age < 18,'VIP'] = df.loc[df.Age < 18, 'VIP'].fillna(False)\n",
    "    return df\n",
    "\n",
    "def not_vip_mars_cryo(df):\n",
    "    df.loc[(df.HomePlanet == 'Mars') & (df.CryoSleep == True),'VIP'] = df.loc[(df.HomePlanet == 'Mars') & (df.CryoSleep == True),'VIP'].fillna(False)\n",
    "    return df\n",
    "\n",
    "def vip_impute(df):\n",
    "    df = not_vip_underage(df)\n",
    "    df = not_vip_earth(df)\n",
    "    df = not_vip_mars_cryo(df)\n",
    "    return df\n"
   ]
  },
  {
   "cell_type": "code",
   "execution_count": 44,
   "metadata": {},
   "outputs": [],
   "source": [
    "togeth = vip_impute(togeth)"
   ]
  },
  {
   "cell_type": "code",
   "execution_count": 45,
   "metadata": {},
   "outputs": [
    {
     "data": {
      "text/plain": [
       "1660"
      ]
     },
     "execution_count": 45,
     "metadata": {},
     "output_type": "execute_result"
    }
   ],
   "source": [
    "togeth[originalcolumns].isna().sum().sum()"
   ]
  },
  {
   "cell_type": "code",
   "execution_count": 46,
   "metadata": {},
   "outputs": [
    {
     "data": {
      "text/plain": [
       "HomePlanet       10\n",
       "CryoSleep       135\n",
       "Cabin            55\n",
       "Destination     274\n",
       "Age             270\n",
       "VIP             104\n",
       "RoomService     162\n",
       "FoodCourt       171\n",
       "ShoppingMall    163\n",
       "Spa             166\n",
       "VRDeck          150\n",
       "dtype: int64"
      ]
     },
     "execution_count": 46,
     "metadata": {},
     "output_type": "execute_result"
    }
   ],
   "source": [
    "togeth[originalcolumns].isna().sum()"
   ]
  },
  {
   "cell_type": "markdown",
   "metadata": {},
   "source": [
    "# Recommended feature engineering"
   ]
  },
  {
   "cell_type": "code",
   "execution_count": 47,
   "metadata": {},
   "outputs": [],
   "source": [
    "def split_group_number(df):\n",
    "    df['Group'] = df['PassengerId'].apply(lambda x: x.split(\"_\")[0] if pd.notna(x) else pd.NA)\n",
    "    df.Group = df.Group.astype('float')\n",
    "    df['GroupNumber'] = df['PassengerId'].apply(lambda x: x.split(\"_\")[1] if pd.notna(x) else pd.NA)\n",
    "    df.GroupNumber = df.GroupNumber.astype('float')\n",
    "    return df\n",
    "\n",
    "def split_names(df):\n",
    "    # Create new columns for first name and last name\n",
    "    df['FirstName'] = df['Name'].apply(lambda x: x.split()[0] if pd.notna(x) else pd.NA)\n",
    "    df['LastName'] = df['Name'].apply(lambda x: x.split()[1] if pd.notna(x) else pd.NA)\n",
    "    return df\n",
    "\n",
    "def sort_df_group(df):\n",
    "    df = df.sort_values(by = ['Group','GroupNumber'])\n",
    "    df.reset_index(inplace = True)\n",
    "    df.drop(columns = 'index',inplace = True)\n",
    "    return df\n",
    "    \n",
    "def split_cabin(df):\n",
    "    df['CabinDeck'] = df['Cabin'].apply(lambda x: x.split(\"/\" )[0] if pd.notna(x) else pd.NA)\n",
    "    custom_order = ['A', 'B', 'C', 'D', 'E', 'F', 'G', 'T']\n",
    "    df['CabinDeck'] = pd.Categorical(df['CabinDeck'], categories=custom_order, ordered=True)\n",
    "    df['CabinSide'] = df['Cabin'].apply(lambda x: x.split(\"/\")[2] if pd.notna(x) else pd.NA)\n",
    "    df['CabinNum'] = df['Cabin'].apply(lambda x: int(x.split(\"/\")[1]) if pd.notna(x) else pd.NA)\n",
    "    return df\n",
    "\n",
    "def initial_splits(df):\n",
    "    df = split_group_number(df)\n",
    "    df = split_names(df)\n",
    "    df = sort_df_group(df)\n",
    "    df = split_cabin(df)\n",
    "    return df\n"
   ]
  },
  {
   "cell_type": "code",
   "execution_count": 48,
   "metadata": {},
   "outputs": [],
   "source": [
    "togeth = initial_splits(togeth)"
   ]
  },
  {
   "cell_type": "markdown",
   "metadata": {},
   "source": [
    "# More certain imputing"
   ]
  },
  {
   "cell_type": "markdown",
   "metadata": {},
   "source": [
    "Cabinside"
   ]
  },
  {
   "cell_type": "code",
   "execution_count": 49,
   "metadata": {},
   "outputs": [],
   "source": [
    "def fill_cabin_side_by_group(df):\n",
    "    for index, row in df.iterrows():\n",
    "        if pd.isna(row['CabinSide']):\n",
    "            matching_rows = togeth[togeth['Group'] == row['Group']]\n",
    "            non_nan_deck = matching_rows.dropna(subset=['CabinSide'])\n",
    "            if not non_nan_deck.empty:\n",
    "                side_to_fill = non_nan_deck['CabinSide'].values[0]\n",
    "                df.at[index, 'CabinSide'] = side_to_fill\n",
    "    return df"
   ]
  },
  {
   "cell_type": "code",
   "execution_count": 50,
   "metadata": {},
   "outputs": [],
   "source": [
    "togeth = fill_cabin_side_by_group(togeth)"
   ]
  },
  {
   "cell_type": "code",
   "execution_count": 51,
   "metadata": {},
   "outputs": [
    {
     "data": {
      "text/plain": [
       "1660"
      ]
     },
     "execution_count": 51,
     "metadata": {},
     "output_type": "execute_result"
    }
   ],
   "source": [
    "togeth[originalcolumns].isna().sum().sum()"
   ]
  },
  {
   "cell_type": "markdown",
   "metadata": {},
   "source": [
    "HomePlanet"
   ]
  },
  {
   "cell_type": "code",
   "execution_count": 52,
   "metadata": {},
   "outputs": [],
   "source": [
    "def fill_home_planet_by_last_name(df):\n",
    "    for index, row in df.iterrows():\n",
    "        if pd.isna(row['HomePlanet']):\n",
    "            matching_rows = df[df['LastName'] == row['LastName']]\n",
    "            non_nan_planet = matching_rows.dropna(subset=['HomePlanet'])\n",
    "            if not non_nan_planet.empty:\n",
    "                planet_to_fill = non_nan_planet['HomePlanet'].values[0]\n",
    "                df.at[index, 'HomePlanet'] = planet_to_fill\n",
    "    return df\n",
    "\n",
    "def home_planet_from_cabindeck_abc(df):\n",
    "    df.loc[df['CabinDeck'].isin(['A', 'B', 'C']), 'HomePlanet'] = df.loc[df['CabinDeck'].isin(['A', 'B', 'C']), 'HomePlanet'].fillna('Europa')\n",
    "    return df\n",
    "\n",
    "def home_planet_from_cabindeck_g(df):\n",
    "    df.loc[df['CabinDeck']== 'G', 'HomePlanet'] = df.loc[df['CabinDeck'] == 'G', 'HomePlanet'].fillna('Earth')\n",
    "    return df\n",
    "\n",
    "def fill_home_planet_by_group(df):\n",
    "    for index, row in df.iterrows():\n",
    "        if pd.isna(row['HomePlanet']):\n",
    "            matching_rows = df[df['Group'] == row['Group']]\n",
    "            non_nan_planet = matching_rows.dropna(subset=['HomePlanet'])\n",
    "            if not non_nan_planet.empty:\n",
    "                planet_to_fill = non_nan_planet['HomePlanet'].values[0]\n",
    "                df.at[index, 'HomePlanet'] = planet_to_fill\n",
    "    return df\n",
    "\n",
    "def homeplanet_impute(df):\n",
    "    df = fill_home_planet_by_last_name(df)\n",
    "    df = home_planet_from_cabindeck_abc(df)\n",
    "    df = home_planet_from_cabindeck_g(df)\n",
    "    df = fill_home_planet_by_group(df)\n",
    "    return df\n"
   ]
  },
  {
   "cell_type": "code",
   "execution_count": 53,
   "metadata": {},
   "outputs": [],
   "source": [
    "togeth = homeplanet_impute(togeth)"
   ]
  },
  {
   "cell_type": "code",
   "execution_count": 54,
   "metadata": {},
   "outputs": [
    {
     "data": {
      "text/plain": [
       "1660"
      ]
     },
     "execution_count": 54,
     "metadata": {},
     "output_type": "execute_result"
    }
   ],
   "source": [
    "togeth[originalcolumns].isna().sum().sum()"
   ]
  },
  {
   "cell_type": "markdown",
   "metadata": {},
   "source": [
    "VIP"
   ]
  },
  {
   "cell_type": "code",
   "execution_count": 55,
   "metadata": {},
   "outputs": [],
   "source": [
    "def not_vip_g(df):\n",
    "    df.loc[df.CabinDeck == 'G','VIP'] = df.loc[df.CabinDeck == 'G','VIP'].fillna(False)\n",
    "    return df\n"
   ]
  },
  {
   "cell_type": "code",
   "execution_count": 56,
   "metadata": {},
   "outputs": [],
   "source": [
    "togeth = not_vip_g(togeth)"
   ]
  },
  {
   "cell_type": "code",
   "execution_count": 57,
   "metadata": {},
   "outputs": [
    {
     "data": {
      "text/plain": [
       "1660"
      ]
     },
     "execution_count": 57,
     "metadata": {},
     "output_type": "execute_result"
    }
   ],
   "source": [
    "togeth[originalcolumns].isna().sum().sum()"
   ]
  },
  {
   "cell_type": "code",
   "execution_count": 58,
   "metadata": {},
   "outputs": [
    {
     "data": {
      "text/plain": [
       "HomePlanet       10\n",
       "CryoSleep       135\n",
       "Cabin            55\n",
       "Destination     274\n",
       "Age             270\n",
       "VIP             104\n",
       "RoomService     162\n",
       "FoodCourt       171\n",
       "ShoppingMall    163\n",
       "Spa             166\n",
       "VRDeck          150\n",
       "dtype: int64"
      ]
     },
     "execution_count": 58,
     "metadata": {},
     "output_type": "execute_result"
    }
   ],
   "source": [
    "togeth[originalcolumns].isna().sum()"
   ]
  },
  {
   "cell_type": "markdown",
   "metadata": {},
   "source": [
    "## Feature Engineering"
   ]
  },
  {
   "cell_type": "markdown",
   "metadata": {},
   "source": [
    "spending"
   ]
  },
  {
   "cell_type": "code",
   "execution_count": 59,
   "metadata": {},
   "outputs": [],
   "source": [
    "def total_ammenities(df):\n",
    "    df['TotalAmmenities'] = df[['Spa','VRDeck','FoodCourt','ShoppingMall']].sum(axis = 1)\n",
    "    return df\n",
    "\n",
    "\n",
    "def total_cabin_ammenities(df):\n",
    "    def total_cabin_ammenities_apply(row):\n",
    "        if pd.isna(row.Cabin):\n",
    "            return pd.NA\n",
    "        samecabin = df[df.Cabin == row.Cabin]\n",
    "        return np.sum(samecabin.TotalAmmenities)\n",
    "    df['TotalCabinAmmenities'] = df.apply(total_cabin_ammenities_apply, axis = 1)\n",
    "    return df\n",
    "\n",
    "\n",
    "def total_spending(df):\n",
    "    def total_spending_apply(row):\n",
    "        if pd.isna(row.RoomService):\n",
    "            return pd.NA\n",
    "        else:\n",
    "            totalspending = 0\n",
    "            for item in spending:\n",
    "                if not pd.isna(row[item]):\n",
    "                    totalspending += row[item]\n",
    "            return totalspending\n",
    "    df['TotalSpending'] = df.apply(total_spending_apply, axis = 1)\n",
    "    return df\n",
    "\n",
    "def total_cabin_spending(df):\n",
    "    def total_cabin_spending_apply(row):\n",
    "        if pd.isna(row.Cabin):\n",
    "            return pd.NA\n",
    "        samecabin = df[df.Cabin == row.Cabin]\n",
    "        return np.sum(samecabin.TotalSpending)\n",
    "    df['TotalCabinSpending'] = df.apply(total_cabin_spending_apply, axis = 1)\n",
    "    return df\n",
    "\n",
    "def total_cabin_room_service(df):\n",
    "    def total_cabin_room_service_apply(row):\n",
    "        if pd.isna(row.Cabin):\n",
    "            return pd.NA\n",
    "        samecabin = df[df.Cabin == row.Cabin]\n",
    "        return np.sum(samecabin.RoomService)\n",
    "    df['TotalCabinRoomService'] = df.apply(total_cabin_room_service_apply, axis = 1)\n",
    "    return df\n",
    "\n",
    "def calculate_family_spending(df):\n",
    "    # Define the columns related to spending\n",
    "    spending_columns = ['VRDeck', 'Spa', 'RoomService', 'FoodCourt', 'ShoppingMall']\n",
    "\n",
    "    # Group the DataFrame by last name and group, and calculate the total spending for each family\n",
    "    family_spending = df.groupby(['LastName', 'Group'])[spending_columns].transform('sum')\n",
    "\n",
    "    # Rename the family spending columns to distinguish them from the original columns\n",
    "    family_spending.columns = [col + '_Family' for col in spending_columns]\n",
    "\n",
    "    # Add the total family spending and total family amenities columns to the DataFrame\n",
    "    df = pd.concat([df, family_spending], axis=1)\n",
    "\n",
    "    famamenities = ['VRDeck_Family', 'Spa_Family', 'FoodCourt_Family', 'ShoppingMall_Family']\n",
    "    famspending = ['VRDeck_Family', 'Spa_Family', 'RoomService_Family', 'FoodCourt_Family', 'ShoppingMall_Family']\n",
    "    df['TotalFamilyAmmenities'] = df[famamenities].sum(axis=1)\n",
    "    df['TotalFamilySpending'] = df[famspending].sum(axis=1)\n",
    "\n",
    "    return df\n",
    "\n",
    "def spendingFE(df):\n",
    "    df = total_ammenities(df)\n",
    "    df = total_cabin_ammenities(df)\n",
    "    df = total_spending(df)\n",
    "    df = total_cabin_spending(df)\n",
    "    df = total_cabin_room_service(df)\n",
    "    df = calculate_family_spending(df)\n",
    "    return df"
   ]
  },
  {
   "cell_type": "code",
   "execution_count": 60,
   "metadata": {},
   "outputs": [],
   "source": [
    "togeth = spendingFE(togeth)"
   ]
  },
  {
   "cell_type": "markdown",
   "metadata": {},
   "source": [
    "GroupSize, CabinSize, Family Size, Solo Cabin"
   ]
  },
  {
   "cell_type": "code",
   "execution_count": 61,
   "metadata": {},
   "outputs": [],
   "source": [
    "def group_size(df):\n",
    "    def group_size_apply(row):\n",
    "        group = df[df.Group == row.Group]\n",
    "        return len(group)\n",
    "    df['GroupSize'] = df.apply(group_size_apply, axis = 1)\n",
    "    return df\n",
    "\n",
    "def family_size(df):\n",
    "    df['FamilySize'] = df.apply(lambda row: pd.NA if pd.isna(row['LastName']) else df[(df['LastName'] == row['LastName']) & (df['Group'] == row['Group'])].shape[0], axis=1)\n",
    "    return df\n",
    "\n",
    "def cabin_size(df):\n",
    "    def cabin_size_apply(row):\n",
    "        if pd.isna(row.Cabin):\n",
    "            if row.GroupSize == 1:\n",
    "                return 1\n",
    "            else:\n",
    "                return pd.NA\n",
    "        else:\n",
    "            samecabin = df[df.Cabin == row.Cabin]\n",
    "            return len(samecabin)\n",
    "    df['CabinSize'] = df.apply(cabin_size_apply, axis = 1)\n",
    "    return df\n",
    "\n",
    "def solo_cabin(df):\n",
    "    def solo_cabin_apply(row):\n",
    "        if pd.isna(row.Cabin):\n",
    "            if row.GroupSize == 1:\n",
    "                return True\n",
    "            else:\n",
    "                return pd.NA\n",
    "        size = len(df[df.Cabin == row.Cabin])\n",
    "        return size == 1\n",
    "    df['SoloCabin'] = df.apply(solo_cabin_apply, axis = 1)\n",
    "    return df\n",
    "\n",
    "def sizeFE(df):\n",
    "    df = group_size(df)\n",
    "    df = family_size(df)\n",
    "    df = cabin_size(df)\n",
    "    df = solo_cabin(df)\n",
    "    return df\n"
   ]
  },
  {
   "cell_type": "code",
   "execution_count": 62,
   "metadata": {},
   "outputs": [],
   "source": [
    "togeth = sizeFE(togeth)"
   ]
  },
  {
   "cell_type": "markdown",
   "metadata": {},
   "source": [
    "Age"
   ]
  },
  {
   "cell_type": "code",
   "execution_count": 63,
   "metadata": {},
   "outputs": [],
   "source": [
    "def under_13(df):\n",
    "    df['Under13'] = df['Age'].apply(lambda x: True if x < 13 else False if x >= 13 else pd.NA)\n",
    "    return df\n",
    "\n",
    "def under_18(df):\n",
    "    df['Under18'] = df['Age'].apply(lambda x: True if x < 18 else False if x >= 18 else pd.NA)\n",
    "    return df\n",
    "\n",
    "def under_19(df):\n",
    "    df['Under19'] = df['Age'].apply(lambda x: True if x < 19 else False if x >= 19 else pd.NA)\n",
    "    return df\n",
    "\n",
    "def ageFE(df):\n",
    "    df = under_13(df)\n",
    "    df = under_18(df)\n",
    "    df = under_19(df)\n",
    "    return df"
   ]
  },
  {
   "cell_type": "code",
   "execution_count": 64,
   "metadata": {},
   "outputs": [],
   "source": [
    "togeth['Agebin'] = pd.qcut(togeth['Age'], 4)\n",
    "togeth = ageFE(togeth)"
   ]
  },
  {
   "cell_type": "markdown",
   "metadata": {},
   "source": [
    "# Additional Imputes Certainty"
   ]
  },
  {
   "cell_type": "code",
   "execution_count": 65,
   "metadata": {},
   "outputs": [],
   "source": [
    "def not_under_18_if_vip(df):\n",
    "    df['Under18'] = df.apply(lambda row: False if pd.isna(row['Age']) and row['VIP'] == True else row['Under18'], axis=1)\n",
    "    return df\n",
    "\n",
    "def not_under_13_if_spending(df):\n",
    "    for index, row in df[df['Under13'].isna()].iterrows():\n",
    "        if (row[spending] > 0).any():\n",
    "            df.at[index, 'Under13'] = False\n",
    "    return df\n",
    "\n",
    "def age_impute(df):\n",
    "    df = not_under_13_if_spending(df)\n",
    "    df = not_under_18_if_vip(df)\n",
    "    return df\n"
   ]
  },
  {
   "cell_type": "code",
   "execution_count": 66,
   "metadata": {},
   "outputs": [],
   "source": [
    "togeth = age_impute(togeth)"
   ]
  },
  {
   "cell_type": "markdown",
   "metadata": {},
   "source": [
    "# export certainty csv"
   ]
  },
  {
   "cell_type": "code",
   "execution_count": 67,
   "metadata": {},
   "outputs": [],
   "source": [
    "togeth.to_csv('certainty_imputed_data')"
   ]
  },
  {
   "cell_type": "markdown",
   "metadata": {},
   "source": [
    "# splits for nas or cryo"
   ]
  },
  {
   "cell_type": "code",
   "execution_count": 5,
   "metadata": {},
   "outputs": [
    {
     "ename": "KeyError",
     "evalue": "'[6, 11, 15, 18, 19, 21, 38, 42, 48, 68, 73, 78, 92, 93, 99, 101, 105, 114, 117, 127, 128, 134, 135, 136, 140, 141, 146, 147, 148, 150, 152, 157, 161, 164, 165, 171, 172, 177, 180, 181, 183, 184, 185, 197, 198, 199, 201, 203, 209, 211, 219, 225, 227, 234, 236, 241, 242, 248, 253, 263, 265, 276, 277, 278, 279, 285, 292, 307, 312, 314, 327, 328, 331, 332, 334, 339, 340, 344, 345, 348, 354, 358, 378, 383, 385, 387, 388, 389, 405, 410, 413, 419, 422, 427, 433, 435, 436, 446, 450, 454, 457, 460, 464, 472, 481, 484, 488, 489, 499, 500, 504, 509, 512, 527, 532, 535, 543, 544, 547, 556, 557, 559, 561, 565, 566, 573, 578, 582, 584, 585, 586, 587, 589, 595, 598, 599, 601, 602, 617, 621, 626, 627, 628, 629, 647, 650, 651, 654, 656, 657, 669, 678, 685, 686, 699, 701, 711, 712, 713, 729, 732, 737, 738, 752, 754, 755, 756, 761, 763, 766, 776, 777, 778, 781, 783, 785, 786, 788, 792, 794, 795, 799, 800, 801, 803, 812, 815, 817, 825, 826, 830, 832, 843, 846, 850, 853, 859, 861, 863, 873, 877, 894, 898, 899, 907, 911, 912, 913, 920, 922, 925, 934, 938, 961, 963, 966, 977, 980, 991, 995, 1004, 1007, 1013, 1020, 1023, 1030, 1032, 1033, 1040, 1041, 1042, 1046, 1052, 1054, 1056, 1057, 1063, 1065, 1072, 1073, 1074, 1079, 1090, 1093, 1098, 1099, 1100, 1105, 1106, 1115, 1121, 1124, 1125, 1131, 1135, 1137, 1144, 1151, 1152, 1155, 1157, 1159, 1160, 1165, 1170, 1176, 1177, 1180, 1183, 1187, 1191, 1192, 1196, 1199, 1202, 1204, 1206, 1209, 1216, 1221, 1222, 1241, 1243, 1249, 1253, 1257, 1261, 1264, 1269, 1270, 1271, 1275, 1280, 1281, 1282, 1285, 1297, 1298, 1300, 1323, 1325, 1329, 1335, 1339, 1341, 1342, 1350, 1356, 1365, 1366, 1367, 1374, 1376, 1379, 1381, 1394, 1403, 1404, 1413, 1414, 1420, 1421, 1422, 1427, 1443, 1446, 1448, 1450, 1454, 1457, 1462, 1465, 1468, 1474, 1475, 1476, 1477, 1479, 1482, 1485, 1489, 1490, 1496, 1513, 1515, 1524, 1528, 1535, 1536, 1545, 1548, 1549, 1551, 1552, 1555, 1559, 1564, 1567, 1569, 1570, 1578, 1580, 1584, 1588, 1591, 1601, 1603, 1604, 1607, 1615, 1625, 1627, 1640, 1647, 1649, 1655, 1658, 1663, 1665, 1666, 1671, 1681, 1688, 1695, 1708, 1718, 1719, 1723, 1727, 1735, 1737, 1740, 1743, 1745, 1761, 1766, 1769, 1776, 1781, 1793, 1794, 1800, 1803, 1809, 1811, 1816, 1817, 1820, 1826, 1833, 1844, 1845, 1854, 1859, 1860, 1864, 1870, 1872, 1879, 1888, 1890, 1896, 1898, 1901, 1908, 1909, 1916, 1918, 1920, 1921, 1924, 1925, 1929, 1937, 1938, 1942, 1947, 1949, 1954, 1959, 1964, 1965, 1968, 1973, 1977, 1981, 1982, 1984, 1985, 1987, 1989, 1992, 1993, 1994, 1998, 1999, 2004, 2005, 2014, 2019, 2024, 2026, 2029, 2030, 2036, 2038, 2042, 2043, 2046, 2048, 2050, 2055, 2056, 2057, 2060, 2061, 2063, 2065, 2066, 2067, 2082, 2086, 2091, 2095, 2102, 2105, 2107, 2114, 2120, 2121, 2129, 2133, 2134, 2136, 2139, 2141, 2146, 2150, 2153, 2156, 2168, 2169, 2174, 2177, 2191, 2202, 2204, 2209, 2211, 2216, 2220, 2221, 2226, 2234, 2239, 2240, 2243, 2245, 2251, 2252, 2256, 2259, 2261, 2267, 2275, 2278, 2279, 2280, 2283, 2284, 2287, 2288, 2291, 2292, 2296, 2300, 2302, 2313, 2315, 2325, 2331, 2332, 2334, 2340, 2346, 2348, 2356, 2357, 2358, 2359, 2361, 2362, 2365, 2374, 2376, 2377, 2378, 2383, 2392, 2395, 2397, 2405, 2410, 2414, 2419, 2427, 2433, 2435, 2440, 2441, 2450, 2456, 2462, 2466, 2471, 2476, 2483, 2484, 2486, 2488, 2492, 2495, 2500, 2506, 2509, 2510, 2517, 2518, 2519, 2523, 2526, 2527, 2537, 2538, 2539, 2546, 2547, 2549, 2551, 2557, 2560, 2571, 2580, 2588, 2589, 2591, 2600, 2602, 2605, 2608, 2609, 2612, 2615, 2631, 2632, 2635, 2642, 2643, 2647, 2650, 2652, 2657, 2658, 2660, 2684, 2688, 2691, 2712, 2713, 2715, 2716, 2729, 2742, 2746, 2752, 2754, 2759, 2760, 2762, 2764, 2769, 2773, 2774, 2777, 2779, 2780, 2784, 2787, 2791, 2795, 2800, 2803, 2805, 2806, 2808, 2810, 2822, 2833, 2839, 2854, 2855, 2859, 2866, 2867, 2870, 2873, 2878, 2880, 2889, 2900, 2901, 2902, 2903, 2904, 2908, 2918, 2919, 2922, 2923, 2932, 2934, 2939, 2942, 2947, 2951, 2952, 2959, 2961, 2966, 2968, 2972, 2975, 2983, 2989, 2992, 2996, 3000, 3006, 3007, 3009, 3012, 3014, 3016, 3018, 3021, 3034, 3035, 3036, 3037, 3040, 3042, 3043, 3047, 3054, 3058, 3061, 3072, 3073, 3083, 3091, 3093, 3097, 3100, 3105, 3107, 3109, 3113, 3114, 3118, 3125, 3126, 3128, 3133, 3148, 3149, 3150, 3153, 3160, 3163, 3165, 3166, 3168, 3170, 3177, 3183, 3184, 3187, 3189, 3199, 3203, 3205, 3206, 3208, 3210, 3211, 3216, 3220, 3223, 3225, 3238, 3243, 3246, 3247, 3249, 3251, 3253, 3266, 3267, 3270, 3276] not in index'",
     "output_type": "error",
     "traceback": [
      "\u001b[1;31m---------------------------------------------------------------------------\u001b[0m",
      "\u001b[1;31mKeyError\u001b[0m                                  Traceback (most recent call last)",
      "\u001b[1;32mc:\\Users\\jsult\\Desktop\\spacetitanic3\\FINALtransferred\\data_prep.ipynb Cell 46\u001b[0m line \u001b[0;36m1\n\u001b[0;32m      <a href='vscode-notebook-cell:/c%3A/Users/jsult/Desktop/spacetitanic3/FINALtransferred/data_prep.ipynb#Y260sZmlsZQ%3D%3D?line=8'>9</a>\u001b[0m         dropinds\u001b[39m.\u001b[39mappend(i)\n\u001b[0;32m     <a href='vscode-notebook-cell:/c%3A/Users/jsult/Desktop/spacetitanic3/FINALtransferred/data_prep.ipynb#Y260sZmlsZQ%3D%3D?line=9'>10</a>\u001b[0m droptest \u001b[39m=\u001b[39m testdf\u001b[39m.\u001b[39mloc[dropinds]\u001b[39m.\u001b[39mcopy()\n\u001b[1;32m---> <a href='vscode-notebook-cell:/c%3A/Users/jsult/Desktop/spacetitanic3/FINALtransferred/data_prep.ipynb#Y260sZmlsZQ%3D%3D?line=10'>11</a>\u001b[0m testdf \u001b[39m=\u001b[39m testdf\u001b[39m.\u001b[39;49mloc[keepinds]\u001b[39m.\u001b[39mcopy()\n",
      "File \u001b[1;32mc:\\Users\\jsult\\miniconda3\\envs\\spacetitanic\\Lib\\site-packages\\pandas\\core\\indexing.py:1153\u001b[0m, in \u001b[0;36m_LocationIndexer.__getitem__\u001b[1;34m(self, key)\u001b[0m\n\u001b[0;32m   1150\u001b[0m axis \u001b[39m=\u001b[39m \u001b[39mself\u001b[39m\u001b[39m.\u001b[39maxis \u001b[39mor\u001b[39;00m \u001b[39m0\u001b[39m\n\u001b[0;32m   1152\u001b[0m maybe_callable \u001b[39m=\u001b[39m com\u001b[39m.\u001b[39mapply_if_callable(key, \u001b[39mself\u001b[39m\u001b[39m.\u001b[39mobj)\n\u001b[1;32m-> 1153\u001b[0m \u001b[39mreturn\u001b[39;00m \u001b[39mself\u001b[39;49m\u001b[39m.\u001b[39;49m_getitem_axis(maybe_callable, axis\u001b[39m=\u001b[39;49maxis)\n",
      "File \u001b[1;32mc:\\Users\\jsult\\miniconda3\\envs\\spacetitanic\\Lib\\site-packages\\pandas\\core\\indexing.py:1382\u001b[0m, in \u001b[0;36m_LocIndexer._getitem_axis\u001b[1;34m(self, key, axis)\u001b[0m\n\u001b[0;32m   1379\u001b[0m     \u001b[39mif\u001b[39;00m \u001b[39mhasattr\u001b[39m(key, \u001b[39m\"\u001b[39m\u001b[39mndim\u001b[39m\u001b[39m\"\u001b[39m) \u001b[39mand\u001b[39;00m key\u001b[39m.\u001b[39mndim \u001b[39m>\u001b[39m \u001b[39m1\u001b[39m:\n\u001b[0;32m   1380\u001b[0m         \u001b[39mraise\u001b[39;00m \u001b[39mValueError\u001b[39;00m(\u001b[39m\"\u001b[39m\u001b[39mCannot index with multidimensional key\u001b[39m\u001b[39m\"\u001b[39m)\n\u001b[1;32m-> 1382\u001b[0m     \u001b[39mreturn\u001b[39;00m \u001b[39mself\u001b[39;49m\u001b[39m.\u001b[39;49m_getitem_iterable(key, axis\u001b[39m=\u001b[39;49maxis)\n\u001b[0;32m   1384\u001b[0m \u001b[39m# nested tuple slicing\u001b[39;00m\n\u001b[0;32m   1385\u001b[0m \u001b[39mif\u001b[39;00m is_nested_tuple(key, labels):\n",
      "File \u001b[1;32mc:\\Users\\jsult\\miniconda3\\envs\\spacetitanic\\Lib\\site-packages\\pandas\\core\\indexing.py:1322\u001b[0m, in \u001b[0;36m_LocIndexer._getitem_iterable\u001b[1;34m(self, key, axis)\u001b[0m\n\u001b[0;32m   1319\u001b[0m \u001b[39mself\u001b[39m\u001b[39m.\u001b[39m_validate_key(key, axis)\n\u001b[0;32m   1321\u001b[0m \u001b[39m# A collection of keys\u001b[39;00m\n\u001b[1;32m-> 1322\u001b[0m keyarr, indexer \u001b[39m=\u001b[39m \u001b[39mself\u001b[39;49m\u001b[39m.\u001b[39;49m_get_listlike_indexer(key, axis)\n\u001b[0;32m   1323\u001b[0m \u001b[39mreturn\u001b[39;00m \u001b[39mself\u001b[39m\u001b[39m.\u001b[39mobj\u001b[39m.\u001b[39m_reindex_with_indexers(\n\u001b[0;32m   1324\u001b[0m     {axis: [keyarr, indexer]}, copy\u001b[39m=\u001b[39m\u001b[39mTrue\u001b[39;00m, allow_dups\u001b[39m=\u001b[39m\u001b[39mTrue\u001b[39;00m\n\u001b[0;32m   1325\u001b[0m )\n",
      "File \u001b[1;32mc:\\Users\\jsult\\miniconda3\\envs\\spacetitanic\\Lib\\site-packages\\pandas\\core\\indexing.py:1520\u001b[0m, in \u001b[0;36m_LocIndexer._get_listlike_indexer\u001b[1;34m(self, key, axis)\u001b[0m\n\u001b[0;32m   1517\u001b[0m ax \u001b[39m=\u001b[39m \u001b[39mself\u001b[39m\u001b[39m.\u001b[39mobj\u001b[39m.\u001b[39m_get_axis(axis)\n\u001b[0;32m   1518\u001b[0m axis_name \u001b[39m=\u001b[39m \u001b[39mself\u001b[39m\u001b[39m.\u001b[39mobj\u001b[39m.\u001b[39m_get_axis_name(axis)\n\u001b[1;32m-> 1520\u001b[0m keyarr, indexer \u001b[39m=\u001b[39m ax\u001b[39m.\u001b[39;49m_get_indexer_strict(key, axis_name)\n\u001b[0;32m   1522\u001b[0m \u001b[39mreturn\u001b[39;00m keyarr, indexer\n",
      "File \u001b[1;32mc:\\Users\\jsult\\miniconda3\\envs\\spacetitanic\\Lib\\site-packages\\pandas\\core\\indexes\\base.py:6114\u001b[0m, in \u001b[0;36mIndex._get_indexer_strict\u001b[1;34m(self, key, axis_name)\u001b[0m\n\u001b[0;32m   6111\u001b[0m \u001b[39melse\u001b[39;00m:\n\u001b[0;32m   6112\u001b[0m     keyarr, indexer, new_indexer \u001b[39m=\u001b[39m \u001b[39mself\u001b[39m\u001b[39m.\u001b[39m_reindex_non_unique(keyarr)\n\u001b[1;32m-> 6114\u001b[0m \u001b[39mself\u001b[39;49m\u001b[39m.\u001b[39;49m_raise_if_missing(keyarr, indexer, axis_name)\n\u001b[0;32m   6116\u001b[0m keyarr \u001b[39m=\u001b[39m \u001b[39mself\u001b[39m\u001b[39m.\u001b[39mtake(indexer)\n\u001b[0;32m   6117\u001b[0m \u001b[39mif\u001b[39;00m \u001b[39misinstance\u001b[39m(key, Index):\n\u001b[0;32m   6118\u001b[0m     \u001b[39m# GH 42790 - Preserve name from an Index\u001b[39;00m\n",
      "File \u001b[1;32mc:\\Users\\jsult\\miniconda3\\envs\\spacetitanic\\Lib\\site-packages\\pandas\\core\\indexes\\base.py:6178\u001b[0m, in \u001b[0;36mIndex._raise_if_missing\u001b[1;34m(self, key, indexer, axis_name)\u001b[0m\n\u001b[0;32m   6175\u001b[0m     \u001b[39mraise\u001b[39;00m \u001b[39mKeyError\u001b[39;00m(\u001b[39mf\u001b[39m\u001b[39m\"\u001b[39m\u001b[39mNone of [\u001b[39m\u001b[39m{\u001b[39;00mkey\u001b[39m}\u001b[39;00m\u001b[39m] are in the [\u001b[39m\u001b[39m{\u001b[39;00maxis_name\u001b[39m}\u001b[39;00m\u001b[39m]\u001b[39m\u001b[39m\"\u001b[39m)\n\u001b[0;32m   6177\u001b[0m not_found \u001b[39m=\u001b[39m \u001b[39mlist\u001b[39m(ensure_index(key)[missing_mask\u001b[39m.\u001b[39mnonzero()[\u001b[39m0\u001b[39m]]\u001b[39m.\u001b[39munique())\n\u001b[1;32m-> 6178\u001b[0m \u001b[39mraise\u001b[39;00m \u001b[39mKeyError\u001b[39;00m(\u001b[39mf\u001b[39m\u001b[39m\"\u001b[39m\u001b[39m{\u001b[39;00mnot_found\u001b[39m}\u001b[39;00m\u001b[39m not in index\u001b[39m\u001b[39m\"\u001b[39m)\n",
      "\u001b[1;31mKeyError\u001b[0m: '[6, 11, 15, 18, 19, 21, 38, 42, 48, 68, 73, 78, 92, 93, 99, 101, 105, 114, 117, 127, 128, 134, 135, 136, 140, 141, 146, 147, 148, 150, 152, 157, 161, 164, 165, 171, 172, 177, 180, 181, 183, 184, 185, 197, 198, 199, 201, 203, 209, 211, 219, 225, 227, 234, 236, 241, 242, 248, 253, 263, 265, 276, 277, 278, 279, 285, 292, 307, 312, 314, 327, 328, 331, 332, 334, 339, 340, 344, 345, 348, 354, 358, 378, 383, 385, 387, 388, 389, 405, 410, 413, 419, 422, 427, 433, 435, 436, 446, 450, 454, 457, 460, 464, 472, 481, 484, 488, 489, 499, 500, 504, 509, 512, 527, 532, 535, 543, 544, 547, 556, 557, 559, 561, 565, 566, 573, 578, 582, 584, 585, 586, 587, 589, 595, 598, 599, 601, 602, 617, 621, 626, 627, 628, 629, 647, 650, 651, 654, 656, 657, 669, 678, 685, 686, 699, 701, 711, 712, 713, 729, 732, 737, 738, 752, 754, 755, 756, 761, 763, 766, 776, 777, 778, 781, 783, 785, 786, 788, 792, 794, 795, 799, 800, 801, 803, 812, 815, 817, 825, 826, 830, 832, 843, 846, 850, 853, 859, 861, 863, 873, 877, 894, 898, 899, 907, 911, 912, 913, 920, 922, 925, 934, 938, 961, 963, 966, 977, 980, 991, 995, 1004, 1007, 1013, 1020, 1023, 1030, 1032, 1033, 1040, 1041, 1042, 1046, 1052, 1054, 1056, 1057, 1063, 1065, 1072, 1073, 1074, 1079, 1090, 1093, 1098, 1099, 1100, 1105, 1106, 1115, 1121, 1124, 1125, 1131, 1135, 1137, 1144, 1151, 1152, 1155, 1157, 1159, 1160, 1165, 1170, 1176, 1177, 1180, 1183, 1187, 1191, 1192, 1196, 1199, 1202, 1204, 1206, 1209, 1216, 1221, 1222, 1241, 1243, 1249, 1253, 1257, 1261, 1264, 1269, 1270, 1271, 1275, 1280, 1281, 1282, 1285, 1297, 1298, 1300, 1323, 1325, 1329, 1335, 1339, 1341, 1342, 1350, 1356, 1365, 1366, 1367, 1374, 1376, 1379, 1381, 1394, 1403, 1404, 1413, 1414, 1420, 1421, 1422, 1427, 1443, 1446, 1448, 1450, 1454, 1457, 1462, 1465, 1468, 1474, 1475, 1476, 1477, 1479, 1482, 1485, 1489, 1490, 1496, 1513, 1515, 1524, 1528, 1535, 1536, 1545, 1548, 1549, 1551, 1552, 1555, 1559, 1564, 1567, 1569, 1570, 1578, 1580, 1584, 1588, 1591, 1601, 1603, 1604, 1607, 1615, 1625, 1627, 1640, 1647, 1649, 1655, 1658, 1663, 1665, 1666, 1671, 1681, 1688, 1695, 1708, 1718, 1719, 1723, 1727, 1735, 1737, 1740, 1743, 1745, 1761, 1766, 1769, 1776, 1781, 1793, 1794, 1800, 1803, 1809, 1811, 1816, 1817, 1820, 1826, 1833, 1844, 1845, 1854, 1859, 1860, 1864, 1870, 1872, 1879, 1888, 1890, 1896, 1898, 1901, 1908, 1909, 1916, 1918, 1920, 1921, 1924, 1925, 1929, 1937, 1938, 1942, 1947, 1949, 1954, 1959, 1964, 1965, 1968, 1973, 1977, 1981, 1982, 1984, 1985, 1987, 1989, 1992, 1993, 1994, 1998, 1999, 2004, 2005, 2014, 2019, 2024, 2026, 2029, 2030, 2036, 2038, 2042, 2043, 2046, 2048, 2050, 2055, 2056, 2057, 2060, 2061, 2063, 2065, 2066, 2067, 2082, 2086, 2091, 2095, 2102, 2105, 2107, 2114, 2120, 2121, 2129, 2133, 2134, 2136, 2139, 2141, 2146, 2150, 2153, 2156, 2168, 2169, 2174, 2177, 2191, 2202, 2204, 2209, 2211, 2216, 2220, 2221, 2226, 2234, 2239, 2240, 2243, 2245, 2251, 2252, 2256, 2259, 2261, 2267, 2275, 2278, 2279, 2280, 2283, 2284, 2287, 2288, 2291, 2292, 2296, 2300, 2302, 2313, 2315, 2325, 2331, 2332, 2334, 2340, 2346, 2348, 2356, 2357, 2358, 2359, 2361, 2362, 2365, 2374, 2376, 2377, 2378, 2383, 2392, 2395, 2397, 2405, 2410, 2414, 2419, 2427, 2433, 2435, 2440, 2441, 2450, 2456, 2462, 2466, 2471, 2476, 2483, 2484, 2486, 2488, 2492, 2495, 2500, 2506, 2509, 2510, 2517, 2518, 2519, 2523, 2526, 2527, 2537, 2538, 2539, 2546, 2547, 2549, 2551, 2557, 2560, 2571, 2580, 2588, 2589, 2591, 2600, 2602, 2605, 2608, 2609, 2612, 2615, 2631, 2632, 2635, 2642, 2643, 2647, 2650, 2652, 2657, 2658, 2660, 2684, 2688, 2691, 2712, 2713, 2715, 2716, 2729, 2742, 2746, 2752, 2754, 2759, 2760, 2762, 2764, 2769, 2773, 2774, 2777, 2779, 2780, 2784, 2787, 2791, 2795, 2800, 2803, 2805, 2806, 2808, 2810, 2822, 2833, 2839, 2854, 2855, 2859, 2866, 2867, 2870, 2873, 2878, 2880, 2889, 2900, 2901, 2902, 2903, 2904, 2908, 2918, 2919, 2922, 2923, 2932, 2934, 2939, 2942, 2947, 2951, 2952, 2959, 2961, 2966, 2968, 2972, 2975, 2983, 2989, 2992, 2996, 3000, 3006, 3007, 3009, 3012, 3014, 3016, 3018, 3021, 3034, 3035, 3036, 3037, 3040, 3042, 3043, 3047, 3054, 3058, 3061, 3072, 3073, 3083, 3091, 3093, 3097, 3100, 3105, 3107, 3109, 3113, 3114, 3118, 3125, 3126, 3128, 3133, 3148, 3149, 3150, 3153, 3160, 3163, 3165, 3166, 3168, 3170, 3177, 3183, 3184, 3187, 3189, 3199, 3203, 3205, 3206, 3208, 3210, 3211, 3216, 3220, 3223, 3225, 3238, 3243, 3246, 3247, 3249, 3251, 3253, 3266, 3267, 3270, 3276] not in index'"
     ]
    }
   ],
   "source": [
    "nas = list(testdf.isna().sum(axis = 1))\n",
    "indexes = list(testdf.index)\n",
    "keepinds = []\n",
    "dropinds = []\n",
    "for i in range(len(indexes)):\n",
    "    if nas[i] == 0:\n",
    "        keepinds.append(i)\n",
    "    else:\n",
    "        dropinds.append(i)\n",
    "droptest = testdf.loc[dropinds].copy()\n",
    "testdf = testdf.loc[keepinds].copy()"
   ]
  },
  {
   "cell_type": "code",
   "execution_count": 7,
   "metadata": {},
   "outputs": [
    {
     "ename": "SyntaxError",
     "evalue": "invalid syntax (3115374223.py, line 2)",
     "output_type": "error",
     "traceback": [
      "\u001b[1;36m  Cell \u001b[1;32mIn[7], line 2\u001b[1;36m\u001b[0m\n\u001b[1;33m    testdf = togeth[!togeth.train]\u001b[0m\n\u001b[1;37m                    ^\u001b[0m\n\u001b[1;31mSyntaxError\u001b[0m\u001b[1;31m:\u001b[0m invalid syntax\n"
     ]
    }
   ],
   "source": [
    "traindf = togeth[togeth.train]\n",
    "testdf = togeth[togeth.train == False]\n",
    "cryotrain = traindf[traindf.CryoSleep == True].copy()\n",
    "cryotest = testdf[testdf.CryoSleep == True].copy()"
   ]
  },
  {
   "cell_type": "markdown",
   "metadata": {},
   "source": [
    "## Guessing Imputations"
   ]
  },
  {
   "cell_type": "markdown",
   "metadata": {},
   "source": [
    "Seems very rare for earth and F to be in CryoSleep"
   ]
  },
  {
   "cell_type": "code",
   "execution_count": 41,
   "metadata": {},
   "outputs": [],
   "source": [
    "def cryosleep_if_f_and_earth(df):\n",
    "    df.loc[(df['HomePlanet'] == 'Earth') & (df['CabinDeck'] == 'F'), 'CryoSleep'] = False\n",
    "    return df\n"
   ]
  },
  {
   "cell_type": "code",
   "execution_count": 42,
   "metadata": {},
   "outputs": [],
   "source": [
    "togeth = cryosleep_if_f_and_earth(togeth)"
   ]
  },
  {
   "cell_type": "code",
   "execution_count": 8,
   "metadata": {},
   "outputs": [
    {
     "data": {
      "text/plain": [
       "CryoSleep\n",
       "False    4632\n",
       "True     2070\n",
       "Name: count, dtype: int64"
      ]
     },
     "execution_count": 8,
     "metadata": {},
     "output_type": "execute_result"
    }
   ],
   "source": [
    "togeth[togeth.HomePlanet == 'Earth'].CryoSleep.value_counts()"
   ]
  },
  {
   "cell_type": "markdown",
   "metadata": {},
   "source": [
    "## Really Guessing Imputes"
   ]
  },
  {
   "cell_type": "markdown",
   "metadata": {},
   "source": [
    "## FillerFunction"
   ]
  },
  {
   "cell_type": "code",
   "execution_count": 118,
   "metadata": {},
   "outputs": [],
   "source": [
    "def fillerfunc(df,conds,target):\n",
    "    for i,row in df[df[target].isna()].iterrows():\n",
    "        go = True\n",
    "        for nas in conds:\n",
    "            if pd.isna(row[nas]):\n",
    "                go = False\n",
    "        if go:\n",
    "            first = conds[0]\n",
    "            a = (df[first] == row[first])\n",
    "            for item in conds[1:]:\n",
    "                a = a & (df[item] == row[item])\n",
    "            valcounts = df[a][target].value_counts()\n",
    "\n",
    "            if valcounts[0] > 25 and len(valcounts) == 1:\n",
    "                df.loc[df.PassengerId == row.PassengerId,target] = df.loc[df.PassengerId == row.PassengerId,target].fillna(valcounts.index[0])\n",
    "            elif valcounts[0] > 25 and len(valcounts) > 1 and valcounts[0] / valcounts[1] > 1.5:\n",
    "                df.loc[df.PassengerId == row.PassengerId,target] = df.loc[df.PassengerId == row.PassengerId,target].fillna(valcounts.index[0])\n",
    "            else:\n",
    "                print(\"help\")\n",
    "                print(\"i\",i)\n",
    "                print(\"row\",row)\n",
    "                print(\"valcounts\",valcounts.index[0])\n",
    "    return df\n",
    "\n"
   ]
  },
  {
   "cell_type": "markdown",
   "metadata": {},
   "source": [
    "homeplanet  - not so informed but somewhat likely"
   ]
  },
  {
   "cell_type": "code",
   "execution_count": 97,
   "metadata": {},
   "outputs": [],
   "source": [
    "def fillerfunc_homeplanet_dest(df):\n",
    "    return fillerfunc(df,['Destination'],'HomePlanet')\n"
   ]
  },
  {
   "cell_type": "markdown",
   "metadata": {},
   "source": [
    "Destination"
   ]
  },
  {
   "cell_type": "code",
   "execution_count": 98,
   "metadata": {},
   "outputs": [],
   "source": [
    "def fillerfunc_dest_homeplanet(df):\n",
    "    return fillerfunc(df,['HomePlanet'],'Destination')"
   ]
  },
  {
   "cell_type": "markdown",
   "metadata": {},
   "source": [
    "Cryosleep\n",
    "\n",
    "if earth and E or F then not cryosleep!! or mars and d\n",
    "if earth and g and trappist then cryosleep"
   ]
  },
  {
   "cell_type": "code",
   "execution_count": null,
   "metadata": {},
   "outputs": [],
   "source": [
    "def fillerfunc_cryosleep_cabin_homeplanet_VIP(df):\n",
    "    return fillerfunc(df,['HomePlanet','Cabin','VIP'],'CryoSleep')"
   ]
  },
  {
   "cell_type": "markdown",
   "metadata": {},
   "source": []
  }
 ],
 "metadata": {
  "kernelspec": {
   "display_name": "sptitanic",
   "language": "python",
   "name": "python3"
  },
  "language_info": {
   "codemirror_mode": {
    "name": "ipython",
    "version": 3
   },
   "file_extension": ".py",
   "mimetype": "text/x-python",
   "name": "python",
   "nbconvert_exporter": "python",
   "pygments_lexer": "ipython3",
   "version": "3.11.5"
  }
 },
 "nbformat": 4,
 "nbformat_minor": 2
}
