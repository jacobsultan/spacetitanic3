{
 "cells": [
  {
   "cell_type": "code",
   "execution_count": 78,
   "metadata": {},
   "outputs": [],
   "source": [
    "import pandas as pd\n",
    "\n",
    "traindf = pd.read_csv('../train.csv')\n",
    "testdf = pd.read_csv('../test.csv')\n",
    "traindf['Set'] = 'Train'\n",
    "testdf['Set'] = 'Test'\n",
    "togeth = pd.concat([testdf,traindf])\n",
    "homeplanets = ['Earth', 'Europa', 'Mars']"
   ]
  },
  {
   "cell_type": "markdown",
   "metadata": {},
   "source": [
    "## datasplits "
   ]
  },
  {
   "cell_type": "code",
   "execution_count": 79,
   "metadata": {},
   "outputs": [],
   "source": [
    "\n",
    "def splits(dataframe):\n",
    "    \n",
    "    dataframe['Group'] = dataframe['PassengerId'].apply(lambda x: x.split(\"_\")[0] if pd.notna(x) else pd.NA)\n",
    "    dataframe['GroupNumber'] = dataframe['PassengerId'].apply(lambda x: x.split(\"_\")[1] if pd.notna(x) else pd.NA)\n",
    "    \n",
    "\n",
    "    dataframe[['Deck', 'Number', 'Side']] = dataframe['Cabin'].str.split(\"/\", expand=True)\n",
    "\n",
    "    dataframe[['Group','GroupNumber']] = dataframe['PassengerId'].str.split(\"_\", expand = True)\n",
    "\n",
    "    togeth['Name'] = togeth['Name'].astype(str)\n",
    "    togeth[['FirstName','LastName']] = togeth['Name'].str.split(\" \",expand = True)\n",
    "\n",
    "\n",
    "    dataframe[['Group', 'GroupNumber','Number']] = dataframe[['Group', 'GroupNumber','Number']].astype(float)\n",
    "\n",
    "    return dataframe\n",
    "\n",
    "togeth = splits(togeth)\n"
   ]
  },
  {
   "cell_type": "markdown",
   "metadata": {},
   "source": [
    "## Certain imputes"
   ]
  },
  {
   "cell_type": "markdown",
   "metadata": {},
   "source": [
    "#### Same name implies home planet"
   ]
  },
  {
   "cell_type": "markdown",
   "metadata": {},
   "source": [
    "write how many there are beforehand with same last name and therefore home planet "
   ]
  },
  {
   "cell_type": "code",
   "execution_count": 72,
   "metadata": {},
   "outputs": [
    {
     "name": "stdout",
     "output_type": "stream",
     "text": [
      "Number of people from groups where all share the same HomePlanet: 12398\n",
      "Number of people from groups where not all share the same HomePlanet: 0\n"
     ]
    }
   ],
   "source": [
    "togeth_cleaned = togeth.dropna(subset=['HomePlanet','LastName'])\n",
    "\n",
    "# Group by 'LastName' and aggregate HomePlanet into lists\n",
    "grouped = togeth_cleaned.groupby('LastName')['HomePlanet'].agg(list).reset_index()\n",
    "\n",
    "# Function to check if all elements in a list are the same\n",
    "def is_uniform(homeplanets):\n",
    "    return len(set(homeplanets)) == 1\n",
    "\n",
    "# Apply the function to identify uniform and mixed groups\n",
    "grouped['UniformPlanet'] = grouped['HomePlanet'].apply(is_uniform)\n",
    "\n",
    "# Count how many people are in uniform and mixed planet groups\n",
    "uniform_groups = grouped[grouped['UniformPlanet'] == True]\n",
    "mixed_groups = grouped[grouped['UniformPlanet'] == False]\n",
    "\n",
    "# Sum up the number of people in uniform and mixed groups\n",
    "people_uniform = uniform_groups['HomePlanet'].apply(len).sum()\n",
    "people_mixed = mixed_groups['HomePlanet'].apply(len).sum()\n",
    "\n",
    "print(f\"Number of people from groups where all share the same HomePlanet: {people_uniform}\")\n",
    "print(f\"Number of people from groups where not all share the same HomePlanet: {people_mixed}\")\n"
   ]
  },
  {
   "cell_type": "markdown",
   "metadata": {},
   "source": [
    "#### same group implies homeplanet "
   ]
  },
  {
   "cell_type": "code",
   "execution_count": 71,
   "metadata": {},
   "outputs": [
    {
     "name": "stdout",
     "output_type": "stream",
     "text": [
      "Number of people from groups where all share the same HomePlanet: 12682\n",
      "Number of people from groups where not all share the same HomePlanet: 0\n"
     ]
    }
   ],
   "source": [
    "togeth_cleaned = togeth.dropna(subset=['HomePlanet','Group'])\n",
    "\n",
    "\n",
    "# Group by 'LastName' and aggregate HomePlanet into lists\n",
    "grouped = togeth_cleaned.groupby('Group')['HomePlanet'].agg(list).reset_index()\n",
    "\n",
    "# Function to check if all elements in a list are the same\n",
    "def is_uniform(homeplanets):\n",
    "    return len(set(homeplanets)) == 1\n",
    "\n",
    "# Apply the function to identify uniform and mixed groups\n",
    "grouped['UniformPlanet'] = grouped['HomePlanet'].apply(is_uniform)\n",
    "\n",
    "# Count how many people are in uniform and mixed planet groups\n",
    "uniform_groups = grouped[grouped['UniformPlanet'] == True]\n",
    "mixed_groups = grouped[grouped['UniformPlanet'] == False]\n",
    "\n",
    "# Sum up the number of people in uniform and mixed groups\n",
    "people_uniform = uniform_groups['HomePlanet'].apply(len).sum()\n",
    "people_mixed = mixed_groups['HomePlanet'].apply(len).sum()\n",
    "\n",
    "print(f\"Number of people from groups where all share the same HomePlanet: {people_uniform}\")\n",
    "print(f\"Number of people from groups where not all share the same HomePlanet: {people_mixed}\")\n"
   ]
  },
  {
   "cell_type": "markdown",
   "metadata": {},
   "source": [
    "#### impute findings"
   ]
  },
  {
   "cell_type": "code",
   "execution_count": null,
   "metadata": {},
   "outputs": [],
   "source": [
    "def fill_home_planet_by_last_name(df):\n",
    "    for index, row in df.iterrows():\n",
    "        if pd.isna(row['HomePlanet']):\n",
    "            matching_rows = df[df['LastName'] == row['LastName']]\n",
    "            non_nan_planet = matching_rows.dropna(subset=['HomePlanet'])\n",
    "            if not non_nan_planet.empty:\n",
    "                planet_to_fill = non_nan_planet['HomePlanet'].values[0]\n",
    "                df.at[index, 'HomePlanet'] = planet_to_fill\n",
    "    return df\n",
    "\n",
    "def fill_home_planet_by_group(df):\n",
    "    for index, row in df.iterrows():\n",
    "        if pd.isna(row['HomePlanet']):\n",
    "            matching_rows = df[df['Group'] == row['Group']]\n",
    "            non_nan_planet = matching_rows.dropna(subset=['HomePlanet'])\n",
    "            if not non_nan_planet.empty:\n",
    "                planet_to_fill = non_nan_planet['HomePlanet'].values[0]\n",
    "                df.at[index, 'HomePlanet'] = planet_to_fill\n",
    "    return df\n"
   ]
  },
  {
   "cell_type": "code",
   "execution_count": null,
   "metadata": {},
   "outputs": [],
   "source": [
    "def home_planet_from_cabindeck_abc(df):\n",
    "    df.loc[df['CabinDeck'].isin(['A', 'B', 'C']), 'HomePlanet'] = df.loc[df['CabinDeck'].isin(['A', 'B', 'C']), 'HomePlanet'].fillna('Europa')\n",
    "    return df\n",
    "def home_planet_from_cabindeck_g(df):\n",
    "    df.loc[df['CabinDeck']== 'G', 'HomePlanet'] = df.loc[df['CabinDeck'] == 'G', 'HomePlanet'].fillna('Earth')\n",
    "    return df\n"
   ]
  },
  {
   "cell_type": "markdown",
   "metadata": {},
   "source": [
    "## homeplanet implies cabindeck"
   ]
  },
  {
   "cell_type": "code",
   "execution_count": 92,
   "metadata": {},
   "outputs": [
    {
     "name": "stdout",
     "output_type": "stream",
     "text": [
      "\n",
      "Earth\n",
      "Deck\n",
      "G    3700\n",
      "F    2426\n",
      "E     583\n",
      "Name: count, dtype: int64\n",
      "\n",
      "Europa\n",
      "Deck\n",
      "B    1124\n",
      "C    1081\n",
      "A     346\n",
      "D     296\n",
      "E     197\n",
      "T      10\n",
      "Name: count, dtype: int64\n",
      "\n",
      "Mars\n",
      "Deck\n",
      "F    1713\n",
      "E     508\n",
      "D     406\n",
      "Name: count, dtype: int64\n"
     ]
    }
   ],
   "source": [
    "for home in homeplanets:\n",
    "    print(\"\\n\" + home)\n",
    "    print(togeth[togeth.HomePlanet == home].Deck.value_counts())"
   ]
  },
  {
   "cell_type": "markdown",
   "metadata": {},
   "source": [
    "People from Earth are only in decks G, F, E\n",
    "People from Europa are only in decks B,C,A,D,E,T\n",
    "people from Mars are only in decks F,E,D"
   ]
  },
  {
   "cell_type": "code",
   "execution_count": null,
   "metadata": {},
   "outputs": [],
   "source": []
  }
 ],
 "metadata": {
  "kernelspec": {
   "display_name": "spaceenv",
   "language": "python",
   "name": "python3"
  },
  "language_info": {
   "codemirror_mode": {
    "name": "ipython",
    "version": 3
   },
   "file_extension": ".py",
   "mimetype": "text/x-python",
   "name": "python",
   "nbconvert_exporter": "python",
   "pygments_lexer": "ipython3",
   "version": "3.9.6"
  }
 },
 "nbformat": 4,
 "nbformat_minor": 2
}
