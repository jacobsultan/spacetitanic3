{
 "cells": [
  {
   "cell_type": "code",
   "execution_count": 11,
   "metadata": {},
   "outputs": [],
   "source": [
    "import os\n",
    "import pandas as pd\n",
    "from fastbook import *\n",
    "from fastai.tabular.all import *\n",
    "from sklearn.tree import DecisionTreeRegressor\n",
    "from sklearn.tree import DecisionTreeClassifier\n",
    "from sklearn.ensemble import RandomForestClassifier\n",
    "from sklearn.metrics import mean_absolute_error\n",
    "from dtreeviz.trees import *\n",
    "import sklearn\n",
    "\n",
    "def r_mse(pred,y): return round(math.sqrt(((pred-y)**2).mean()), 6)\n",
    "def m_rmse(m, xs, y): return r_mse(m.predict(xs), y)\n",
    "\n",
    "traindf = pd.read_csv('/mnt/c/Users/jsult/Desktop/spacetitanic3/train.csv',low_memory=False)\n",
    "testdf = pd.read_csv('/mnt/c/Users/jsult/Desktop/spacetitanic3/test.csv',low_memory= False)\n",
    "traindf['Train'] = True\n",
    "testdf['Train'] = False\n",
    "togeth = pd.concat([traindf,testdf])\n",
    "\n",
    "\n",
    "togeth.drop(columns = 'Transported',inplace = True)\n",
    "\n",
    "\n",
    "spending = ['RoomService','FoodCourt','ShoppingMall','Spa','VRDeck']\n",
    "togeth['Spending'] = togeth[spending].sum(axis = 1)\n"
   ]
  },
  {
   "cell_type": "code",
   "execution_count": 12,
   "metadata": {},
   "outputs": [],
   "source": [
    "def split_group_number(df):\n",
    "    df['Group'] = df['PassengerId'].apply(lambda x: x.split(\"_\")[0] if pd.notna(x) else pd.NA)\n",
    "    df['GroupNumber'] = df['PassengerId'].apply(lambda x: x.split(\"_\")[1] if pd.notna(x) else pd.NA)\n",
    "    return df\n",
    "togeth = split_group_number(togeth)\n",
    "\n",
    "def split_names(df):\n",
    "    # Create new columns for first name and last name\n",
    "    df['FirstName'] = df['Name'].apply(lambda x: x.split()[0] if pd.notna(x) else pd.NA)\n",
    "    df['LastName'] = df['Name'].apply(lambda x: x.split()[1] if pd.notna(x) else pd.NA)\n",
    "    df.drop(columns = ['Name'],inplace = True)\n",
    "    return df\n",
    "togeth = split_names(togeth)\n",
    "\n",
    "\n",
    "def split_cabin(df):\n",
    "    df['CabinDeck'] = df['Cabin'].apply(lambda x: x.split(\"/\" )[0] if pd.notna(x) else pd.NA)\n",
    "    df['CabinSide'] = df['Cabin'].apply(lambda x: x.split(\"/\")[2] if pd.notna(x) else pd.NA)\n",
    "    df['CabinNum'] = df['Cabin'].apply(lambda x: int(x.split(\"/\")[1]) if pd.notna(x) else pd.NA)\n",
    "    return df\n",
    "togeth = split_cabin(togeth)\n"
   ]
  },
  {
   "cell_type": "code",
   "execution_count": 13,
   "metadata": {},
   "outputs": [
    {
     "data": {
      "text/plain": [
       "9887"
      ]
     },
     "execution_count": 13,
     "metadata": {},
     "output_type": "execute_result"
    }
   ],
   "source": [
    "len(togeth.dropna())"
   ]
  },
  {
   "cell_type": "code",
   "execution_count": 14,
   "metadata": {},
   "outputs": [
    {
     "data": {
      "text/plain": [
       "PassengerId       0\n",
       "HomePlanet      288\n",
       "CryoSleep       310\n",
       "Cabin           299\n",
       "Destination     274\n",
       "Age             270\n",
       "VIP             296\n",
       "RoomService     263\n",
       "FoodCourt       289\n",
       "ShoppingMall    306\n",
       "Spa             284\n",
       "VRDeck          268\n",
       "Train             0\n",
       "Spending          0\n",
       "Group             0\n",
       "GroupNumber       0\n",
       "FirstName       294\n",
       "LastName        294\n",
       "CabinDeck       299\n",
       "CabinSide       299\n",
       "CabinNum        299\n",
       "dtype: int64"
      ]
     },
     "execution_count": 14,
     "metadata": {},
     "output_type": "execute_result"
    }
   ],
   "source": [
    "togeth.isna().sum()"
   ]
  },
  {
   "cell_type": "markdown",
   "metadata": {},
   "source": [
    "**CryoSleep**"
   ]
  },
  {
   "cell_type": "markdown",
   "metadata": {},
   "source": [
    "if earth and cabindeck E then not cryosleep 97% \\\n",
    "10 people"
   ]
  },
  {
   "cell_type": "code",
   "execution_count": 15,
   "metadata": {},
   "outputs": [],
   "source": [
    "togeth.loc[(togeth.HomePlanet == 'Earth') & (togeth.CabinDeck == 'E'),'CryoSleep'] = togeth.loc[(togeth.HomePlanet == 'Earth') & (togeth.CabinDeck == 'E'),'CryoSleep'].fillna(False)"
   ]
  },
  {
   "cell_type": "markdown",
   "metadata": {},
   "source": [
    "0 spending older 13 and cabindeck D 97%"
   ]
  },
  {
   "cell_type": "code",
   "execution_count": 16,
   "metadata": {},
   "outputs": [],
   "source": [
    "togeth.loc[(togeth.Age > 13) & (togeth.CabinDeck == 'D') & (togeth.Spending == 0),'CryoSleep'] = togeth.loc[(togeth.Age > 13) & (togeth.CabinDeck == 'D') & (togeth.Spending == 0),'CryoSleep'].fillna(True)"
   ]
  },
  {
   "cell_type": "markdown",
   "metadata": {},
   "source": [
    "0 spending older 13 and cabindeck C then Cryo True 98%"
   ]
  },
  {
   "cell_type": "code",
   "execution_count": 17,
   "metadata": {},
   "outputs": [],
   "source": [
    "togeth.loc[(togeth.Age > 13) & (togeth.CabinDeck == 'C') & (togeth.Spending == 0),'CryoSleep'] = togeth.loc[(togeth.Age > 13) & (togeth.CabinDeck == 'C') & (togeth.Spending == 0),'CryoSleep'].fillna(True)"
   ]
  },
  {
   "cell_type": "markdown",
   "metadata": {},
   "source": [
    "Europa E spending = 0 Cryosleep True = 98% but small\n"
   ]
  },
  {
   "cell_type": "markdown",
   "metadata": {},
   "source": []
  },
  {
   "cell_type": "markdown",
   "metadata": {},
   "source": [
    "**Destination**"
   ]
  },
  {
   "cell_type": "markdown",
   "metadata": {},
   "source": [
    "90% of people share the same destination as those with the same cabin, lastname, and cryosleep ( I think)  \\ (94% if at least 3 in same cryo/cabin/lastname and majority already have same destination)"
   ]
  }
 ],
 "metadata": {
  "kernelspec": {
   "display_name": "sptitanic",
   "language": "python",
   "name": "python3"
  },
  "language_info": {
   "codemirror_mode": {
    "name": "ipython",
    "version": 3
   },
   "file_extension": ".py",
   "mimetype": "text/x-python",
   "name": "python",
   "nbconvert_exporter": "python",
   "pygments_lexer": "ipython3",
   "version": "3.11.6"
  }
 },
 "nbformat": 4,
 "nbformat_minor": 2
}
