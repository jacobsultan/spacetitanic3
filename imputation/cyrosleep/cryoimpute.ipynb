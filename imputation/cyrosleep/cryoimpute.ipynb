{
 "cells": [
  {
   "cell_type": "code",
   "execution_count": 2,
   "metadata": {},
   "outputs": [],
   "source": [
    "import os\n",
    "import pandas as pd\n",
    "from fastbook import *\n",
    "from fastai.tabular.all import *\n",
    "from sklearn.tree import DecisionTreeRegressor\n",
    "from sklearn.ensemble import RandomForestClassifier\n",
    "from sklearn.metrics import mean_absolute_error\n",
    "from dtreeviz.trees import *\n",
    "import sklearn\n",
    "\n",
    "def r_mse(pred,y): return round(math.sqrt(((pred-y)**2).mean()), 6)\n",
    "def m_rmse(m, xs, y): return r_mse(m.predict(xs), y)\n",
    "\n",
    "traindf = pd.read_csv('/mnt/c/Users/jsult/Desktop/spacetitanic3/train.csv',low_memory=False)\n",
    "testdf = pd.read_csv('/mnt/c/Users/jsult/Desktop/spacetitanic3/test.csv',low_memory= False)\n",
    "traindf.dropna(inplace = True)\n",
    "\n"
   ]
  },
  {
   "cell_type": "code",
   "execution_count": 3,
   "metadata": {},
   "outputs": [],
   "source": [
    "spending = ['RoomService', 'FoodCourt', 'ShoppingMall', 'Spa', 'VRDeck']\n"
   ]
  },
  {
   "cell_type": "code",
   "execution_count": 7,
   "metadata": {},
   "outputs": [
    {
     "data": {
      "text/plain": [
       "0           0.0\n",
       "1         736.0\n",
       "2       10383.0\n",
       "3        5176.0\n",
       "4        1091.0\n",
       "         ...   \n",
       "8688     8536.0\n",
       "8689        0.0\n",
       "8690     1873.0\n",
       "8691     4637.0\n",
       "8692     4826.0\n",
       "Length: 6606, dtype: float64"
      ]
     },
     "execution_count": 7,
     "metadata": {},
     "output_type": "execute_result"
    }
   ],
   "source": []
  },
  {
   "cell_type": "code",
   "execution_count": 8,
   "metadata": {},
   "outputs": [],
   "source": [
    "traindf['Spending'] = traindf[spending].sum(axis = 1)"
   ]
  },
  {
   "cell_type": "code",
   "execution_count": 20,
   "metadata": {},
   "outputs": [
    {
     "data": {
      "text/plain": [
       "145"
      ]
     },
     "execution_count": 20,
     "metadata": {},
     "output_type": "execute_result"
    }
   ],
   "source": [
    "len((traindf[(traindf.VIP == True) & (traindf.CryoSleep == False)]))"
   ]
  },
  {
   "cell_type": "code",
   "execution_count": 21,
   "metadata": {},
   "outputs": [
    {
     "data": {
      "text/plain": [
       "CryoSleep\n",
       "True     2332\n",
       "False     404\n",
       "Name: count, dtype: int64"
      ]
     },
     "execution_count": 21,
     "metadata": {},
     "output_type": "execute_result"
    }
   ],
   "source": [
    "traindf[traindf.Spending == 0].CryoSleep.value_counts()"
   ]
  },
  {
   "cell_type": "code",
   "execution_count": 11,
   "metadata": {},
   "outputs": [
    {
     "data": {
      "text/plain": [
       "CryoSleep\n",
       "True     2332\n",
       "False     404\n",
       "Name: count, dtype: int64"
      ]
     },
     "execution_count": 11,
     "metadata": {},
     "output_type": "execute_result"
    }
   ],
   "source": [
    "traindf[traindf['Spending'] == 0].CryoSleep.value_counts()"
   ]
  },
  {
   "cell_type": "code",
   "execution_count": null,
   "metadata": {},
   "outputs": [],
   "source": [
    "\n",
    "\n",
    "\n",
    "\n",
    "\n",
    "splits = RandomSplitter(seed = 1)(range_of(traindf))\n",
    "dep_var = 'Transported'\n",
    "procs = [Categorify,FillMissing,Normalize]\n",
    "cont,cat = cont_cat_split(traindf, 1, dep_var=dep_var)\n",
    "to = TabularPandas(traindf, procs, cat, cont, y_names=dep_var,splits = splits)\n",
    "\n",
    "xs,y = to.train.xs,to.train.y\n",
    "valid_xs, valid_y = to.valid.xs, to.valid.y\n",
    "\n",
    "m = DecisionTreeRegressor(max_leaf_nodes=20)\n",
    "m.fit(xs, y)\n",
    "\n",
    "fig = plt.figure(figsize=(25,20))\n",
    "_ = tree.plot_tree(m,\n",
    "                   feature_names= traindf.columns,\n",
    "                   filled=True)\n",
    "\n",
    "print('decision tree prediction',((m.predict(valid_xs) > 0.5) == valid_y).sum() / len(valid_y))\n",
    "\n",
    "\n"
   ]
  },
  {
   "cell_type": "code",
   "execution_count": null,
   "metadata": {},
   "outputs": [],
   "source": [
    "\n",
    "\n",
    "\n",
    "m = RandomForestClassifier(n_estimators= 100, max_leaf_nodes= 50)\n",
    "m.fit(xs, y)\n",
    "preds = m.predict(valid_xs)\n",
    "print(\"mae\",mean_absolute_error(valid_y, preds))\n",
    "print('preds', (preds == valid_y).sum() /len(valid_y))\n",
    "\n",
    "\n",
    "\n",
    "\n",
    "\n",
    "def rf_feat_importance(m, df):\n",
    "    return pd.DataFrame({'cols':df.columns, 'imp':m.feature_importances_}\n",
    "                       ).sort_values('imp', ascending=False)\n",
    "\n",
    "fi = rf_feat_importance(m, xs)\n",
    "print(fi[:30])\n",
    "\n",
    "\n",
    "\n",
    "\n",
    "\n",
    "\n",
    "\n",
    "\n",
    "cont,cat = cont_cat_split(testdf, 1, dep_var=dep_var)\n",
    "mode_values = testdf[cat].mode().iloc[0]\n",
    "testdf[cat] = testdf[cat].fillna(mode_values)\n",
    "\n",
    "\n",
    "for column in cont:\n",
    "    mode_value = testdf[column].median()  # Calculate the mode for the column\n",
    "    testdf[column].fillna(mode_value, inplace=True)  # Fill missing values with mode\n",
    "    \n",
    "to_new = to.train.new(testdf)\n",
    "to_new.process()\n",
    "\n",
    "\n",
    "\n",
    "testtran = [True if x == 1 else False for x in list(m.predict(to_new.xs))]\n",
    "testdf['Transported'] = testtran\n",
    "ret = testdf[['PassengerId','Transported']]\n",
    "\n",
    "ret.to_csv('submit.csv',index=False)"
   ]
  }
 ],
 "metadata": {
  "kernelspec": {
   "display_name": "sptitanic",
   "language": "python",
   "name": "python3"
  },
  "language_info": {
   "codemirror_mode": {
    "name": "ipython",
    "version": 3
   },
   "file_extension": ".py",
   "mimetype": "text/x-python",
   "name": "python",
   "nbconvert_exporter": "python",
   "pygments_lexer": "ipython3",
   "version": "3.11.6"
  }
 },
 "nbformat": 4,
 "nbformat_minor": 2
}
